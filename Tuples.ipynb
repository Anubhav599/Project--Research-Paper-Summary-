{
  "nbformat": 4,
  "nbformat_minor": 0,
  "metadata": {
    "colab": {
      "provenance": [],
      "authorship_tag": "ABX9TyPl2LYsfyvoTQmQSHlGcPDt",
      "include_colab_link": true
    },
    "kernelspec": {
      "name": "python3",
      "display_name": "Python 3"
    },
    "language_info": {
      "name": "python"
    }
  },
  "cells": [
    {
      "cell_type": "markdown",
      "metadata": {
        "id": "view-in-github",
        "colab_type": "text"
      },
      "source": [
        "<a href=\"https://colab.research.google.com/github/Anubhav599/Project--Research-Paper-Summary-/blob/main/Tuples.ipynb\" target=\"_parent\"><img src=\"https://colab.research.google.com/assets/colab-badge.svg\" alt=\"Open In Colab\"/></a>"
      ]
    },
    {
      "cell_type": "code",
      "execution_count": 1,
      "metadata": {
        "colab": {
          "base_uri": "https://localhost:8080/"
        },
        "id": "6PRBB0pxaEKg",
        "outputId": "236a6f85-34d8-4652-8d7e-03f98a0ab5bb"
      },
      "outputs": [
        {
          "output_type": "stream",
          "name": "stdout",
          "text": [
            "('Amit', 'Rohan', 'Sonu', 'Bittu')\n",
            "(10, 20, 30, 40)\n"
          ]
        }
      ],
      "source": [
        "mytuple = (\"Amit\",\"Rohan\",\"Sonu\",\"Bittu\")\n",
        "print(mytuple)\n",
        "\n",
        "mytuple2 = (10,20,30,40)\n",
        "print(mytuple2)"
      ]
    }
  ]
}